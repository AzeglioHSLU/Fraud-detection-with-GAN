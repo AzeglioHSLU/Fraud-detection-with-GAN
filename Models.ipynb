{
 "cells": [
  {
   "cell_type": "code",
   "execution_count": 12,
   "metadata": {},
   "outputs": [],
   "source": [
    "import numpy as np\n",
    "import pandas as pd\n",
    "import matplotlib.pyplot as plt\n",
    "import seaborn as sns\n",
    "\n",
    "from sklearn.model_selection import train_test_split\n",
    "from sklearn.metrics import accuracy_score,classification_report,confusion_matrix,roc_auc_score, precision_score, recall_score, f1_score\n",
    "from sklearn.ensemble import RandomForestClassifier\n",
    "from sklearn.preprocessing import StandardScaler,  MinMaxScaler\n",
    "\n",
    "import os # accessing directory structure\n",
    "import warnings\n",
    "warnings.filterwarnings('ignore')\n",
    "%matplotlib inline"
   ]
  },
  {
   "cell_type": "code",
   "execution_count": 13,
   "metadata": {},
   "outputs": [],
   "source": [
    "df=pd.read_csv('C:/Users/azegl/_ZHAWaufC/HSLU/prepared_creditcard.csv')\n",
    "df_mix=pd.read_csv('C:/Users/azegl/_ZHAWaufC/HSLU/final_creditcard.csv')"
   ]
  },
  {
   "cell_type": "code",
   "execution_count": 14,
   "metadata": {},
   "outputs": [
    {
     "data": {
      "text/plain": [
       "(568630, 7)"
      ]
     },
     "execution_count": 14,
     "metadata": {},
     "output_type": "execute_result"
    }
   ],
   "source": [
    "df_mix.shape"
   ]
  },
  {
   "cell_type": "code",
   "execution_count": 15,
   "metadata": {},
   "outputs": [],
   "source": [
    "def random_forest_training(train, y_train):\n",
    "    #Trains a RandomForestClassifier and evaluates its performance.\n",
    "\n",
    "    # Initialize RandomForestClassifier\n",
    "    random_forest = RandomForestClassifier(random_state=42)\n",
    "\n",
    "    # Lists to store training and validation metrics\n",
    "    train_f1_scores = []\n",
    "    val_f1_scores = []\n",
    "\n",
    "    # Splitting the train set further into training and validation sets\n",
    "    x_train, x_val, y_train, y_val = train_test_split(train, y_train, test_size=0.25, random_state=42, stratify=y_train)\n",
    "\n",
    "    # Training the model\n",
    "    random_forest.fit(x_train, y_train)\n",
    "\n",
    "    # Training metrics\n",
    "    train_predictions = random_forest.predict(x_train)\n",
    "    train_f1 = f1_score(y_train, train_predictions)\n",
    "    train_f1_scores.append(train_f1)\n",
    "\n",
    "    # Validation metrics using the validation set\n",
    "    val_predictions = random_forest.predict(x_val)\n",
    "    val_f1 = f1_score(y_val, val_predictions)\n",
    "    val_f1_scores.append(val_f1)\n",
    "\n",
    "    return random_forest, train_f1_scores, val_f1_scores\n",
    "\n",
    "def random_forest_visualization(train_f1_scores, val_f1_scores):\n",
    "    #Visualizes training and validation F1-scores.\n",
    "\n",
    "    print(\"Training F1-score:\", train_f1_scores[0])\n",
    "    print(\"Validation F1-score:\", val_f1_scores[0])\n",
    "\n",
    "    plt.figure(figsize=(10, 6))\n",
    "    x = np.arange(1)  # Use np.arange to get a numerical x-value\n",
    "    bar_width = 0.35\n",
    "    plt.bar(x, train_f1_scores, width=bar_width, label='Train F1-score')\n",
    "    plt.bar(x + bar_width, val_f1_scores, width=bar_width, label='Validation F1-score')\n",
    "    plt.xlabel('Model')\n",
    "    plt.ylabel('F1-score')\n",
    "    plt.title('Training and Validation F1-score for RandomForest')\n",
    "    plt.xticks(x + bar_width / 2, ['RandomForest'])\n",
    "    plt.legend()\n",
    "    plt.tight_layout()\n",
    "    plt.show()\n",
    "\n",
    "def random_forest_evaluation(random_forest, X_train, y_train, X_test, y_test):\n",
    "    #Evaluates the RandomForest model on training and test datasets.\n",
    "\n",
    "    # Metrics for the model on both training and test datasets\n",
    "    train_predictions = random_forest.predict(X_train)\n",
    "    test_predictions = random_forest.predict(X_test)\n",
    "\n",
    "    # Calculating metrics\n",
    "    train_f1 = f1_score(y_train, train_predictions)\n",
    "    test_f1 = f1_score(y_test, test_predictions)\n",
    "\n",
    "    # Calculate precision and recall\n",
    "    precision_train = precision_score(y_train, train_predictions)\n",
    "    recall_train = recall_score(y_train, train_predictions)\n",
    "\n",
    "    precision_test = precision_score(y_test, test_predictions)\n",
    "    recall_test = recall_score(y_test, test_predictions)\n",
    "\n",
    "    # Output precision, recall, and f1 score\n",
    "    print(\"RandomForest Model Metrics:\")\n",
    "    print(f\"Training Precision: {precision_train:.4f}, Recall: {recall_train:.4f}, F1-score: {train_f1:.4f}\")\n",
    "    print(f\"Test Precision: {precision_test:.4f}, Recall: {recall_test:.4f}, F1-score: {test_f1:.4f}\")\n",
    "\n",
    "    return train_predictions, test_predictions, train_f1, test_f1, precision_train, recall_train, precision_test, recall_test\n",
    "\n"
   ]
  },
  {
   "cell_type": "code",
   "execution_count": 20,
   "metadata": {},
   "outputs": [
    {
     "name": "stdout",
     "output_type": "stream",
     "text": [
      "Imbalanced data model (IDM)\n",
      "Training F1-score: 1.0\n",
      "Validation F1-score: 0.7977528089887641\n"
     ]
    },
    {
     "data": {
      "image/png": "[encoded data removed]",
      "text/plain": [
       "<Figure size 720x432 with 1 Axes>"
      ]
     },
     "metadata": {
      "needs_background": "light"
     },
     "output_type": "display_data"
    },
    {
     "name": "stdout",
     "output_type": "stream",
     "text": [
      "RandomForest Model Metrics:\n",
      "Training Precision: 0.9786, Recall: 0.9289, F1-score: 0.9531\n",
      "Test Precision: 0.9059, Recall: 0.7857, F1-score: 0.8415\n"
     ]
    },
    {
     "data": {
      "text/plain": [
       "(array([0, 0, 0, ..., 0, 0, 0], dtype=int64),\n",
       " array([0, 0, 0, ..., 0, 0, 0], dtype=int64),\n",
       " 0.9531250000000001,\n",
       " 0.8415300546448088,\n",
       " 0.9786096256684492,\n",
       " 0.9289340101522843,\n",
       " 0.9058823529411765,\n",
       " 0.7857142857142857)"
      ]
     },
     "execution_count": 20,
     "metadata": {},
     "output_type": "execute_result"
    }
   ],
   "source": [
    "# Separate features and target variable\n",
    "X = df.drop('Class', axis=1)\n",
    "y = df['Class']\n",
    "\n",
    "# Splitting data into train and test sets\n",
    "X_train, X_test, y_train, y_test = train_test_split(X, y, test_size=0.2, random_state=42, stratify=y)\n",
    "\n",
    "random_forest_model, train_f1_scores, val_f1_scores = random_forest_training(X_train, y_train)\n",
    "print(\"Imbalanced data model (IDM)\")\n",
    "random_forest_visualization(train_f1_scores, val_f1_scores)\n",
    "\n",
    "random_forest_evaluation(random_forest_model, X_train, y_train, X_test, y_test)"
   ]
  },
  {
   "cell_type": "code",
   "execution_count": 19,
   "metadata": {},
   "outputs": [
    {
     "name": "stdout",
     "output_type": "stream",
     "text": [
      "Balanced data model (BDM)\n",
      "Training F1-score: 0.9999970689700654\n",
      "Validation F1-score: 0.9997361616801225\n"
     ]
    },
    {
     "data": {
      "image/png": "[encoded data removed]",
      "text/plain": [
       "<Figure size 720x432 with 1 Axes>"
      ]
     },
     "metadata": {
      "needs_background": "light"
     },
     "output_type": "display_data"
    },
    {
     "name": "stdout",
     "output_type": "stream",
     "text": [
      "RandomForest Model Metrics:\n",
      "Training Precision: 1.0000, Recall: 0.9999, F1-score: 0.9999\n",
      "Test Precision: 0.9999, Recall: 0.9996, F1-score: 0.9998\n"
     ]
    },
    {
     "data": {
      "text/plain": [
       "(array([0, 0, 1, ..., 1, 1, 1], dtype=int64),\n",
       " array([1, 1, 0, ..., 1, 1, 1], dtype=int64),\n",
       " 0.9999318506077386,\n",
       " 0.9997713481663881,\n",
       " 0.999978015310138,\n",
       " 0.9998856901675958,\n",
       " 0.9999120446109733,\n",
       " 0.9996306913106942)"
      ]
     },
     "execution_count": 19,
     "metadata": {},
     "output_type": "execute_result"
    }
   ],
   "source": [
    "# Separate features and target variable\n",
    "X = df_mix.drop('Class', axis=1)\n",
    "y = df_mix['Class']\n",
    "\n",
    "\n",
    "# Splitting data into train and test sets\n",
    "X_train, X_test, y_train, y_test = train_test_split(X, y, test_size=0.2, random_state=42, stratify=y)\n",
    "\n",
    "random_forest_model, train_f1_scores, val_f1_scores = random_forest_training(X_train, y_train)\n",
    "print(\"Balanced data model (BDM)\")\n",
    "random_forest_visualization(train_f1_scores, val_f1_scores)\n",
    "\n",
    "random_forest_evaluation(random_forest_model, X_train, y_train, X_test, y_test)"
   ]
  },
  {
   "cell_type": "code",
   "execution_count": null,
   "metadata": {},
   "outputs": [],
   "source": []
  }
 ],
 "metadata": {
  "kernelspec": {
   "display_name": "base",
   "language": "python",
   "name": "python3"
  },
  "language_info": {
   "codemirror_mode": {
    "name": "ipython",
    "version": 3
   },
   "file_extension": ".py",
   "mimetype": "text/x-python",
   "name": "python",
   "nbconvert_exporter": "python",
   "pygments_lexer": "ipython3",
   "version": "3.9.12"
  }
 },
 "nbformat": 4,
 "nbformat_minor": 2
}
